{
 "cells": [
  {
   "cell_type": "markdown",
   "id": "019b2cea",
   "metadata": {},
   "source": [
    "# 距离和角度"
   ]
  },
  {
   "cell_type": "code",
   "execution_count": 1,
   "id": "6dffbb51",
   "metadata": {},
   "outputs": [
    {
     "name": "stdout",
     "output_type": "stream",
     "text": [
      "2466.4210675597396 22.18105755349615 25.651618610049262 207.4193805941954\n"
     ]
    }
   ],
   "source": [
    "from obspy.geodetics import gps2dist_azimuth, kilometers2degrees\n",
    "\n",
    "# 事件和台站的经纬度\n",
    "evla, evlo, stla, stlo = 0, 0, 20, 10\n",
    "\n",
    "# 计算事件和台站的距离、方位角以及反方位角\n",
    "dist, az, baz = gps2dist_azimuth(evla, evlo, stla, stlo)  # 距离单位默认是 m\n",
    "dist /= 1000.0  # 距离单位为 km\n",
    "gcarc = kilometers2degrees(dist)  # 转换为角度\n",
    "print(dist, gcarc, az, baz)"
   ]
  },
  {
   "cell_type": "code",
   "execution_count": null,
   "id": "3da74405",
   "metadata": {},
   "outputs": [],
   "source": []
  }
 ],
 "metadata": {
  "kernelspec": {
   "display_name": "Python 3",
   "language": "python",
   "name": "python3"
  },
  "language_info": {
   "codemirror_mode": {
    "name": "ipython",
    "version": 3
   },
   "file_extension": ".py",
   "mimetype": "text/x-python",
   "name": "python",
   "nbconvert_exporter": "python",
   "pygments_lexer": "ipython3",
   "version": "3.8.5"
  }
 },
 "nbformat": 4,
 "nbformat_minor": 5
}
