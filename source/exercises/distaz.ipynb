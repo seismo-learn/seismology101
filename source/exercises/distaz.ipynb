{
 "cells": [
  {
   "cell_type": "markdown",
   "id": "different-crossing",
   "metadata": {},
   "source": [
    "# 距离和角度"
   ]
  },
  {
   "cell_type": "code",
   "execution_count": null,
   "id": "planned-pickup",
   "metadata": {},
   "outputs": [],
   "source": [
    "from obspy.geodetics import gps2dist_azimuth, kilometers2degrees\n",
    "\n",
    "# 事件和台站的经纬度\n",
    "evla, evlo, stla, stlo = 0, 0, 20, 10\n",
    "\n",
    "# 计算事件和台站的距离、方位角以及反方位角\n",
    "dist, az, baz = gps2dist_azimuth(evla, evlo, stla, stlo)  # 距离单位默认是 m\n",
    "dist /= 1000.0  # 距离单位为 km\n",
    "gcarc = kilometers2degrees(dist)  # 转换为角度\n",
    "print(dist, gcarc, az, baz)"
   ]
  }
 ],
 "metadata": {
  "kernelspec": {
   "display_name": "Python 3",
   "language": "python",
   "name": "python3"
  },
  "language_info": {
   "codemirror_mode": {
    "name": "ipython",
    "version": 3
   },
   "file_extension": ".py",
   "mimetype": "text/x-python",
   "name": "python",
   "nbconvert_exporter": "python",
   "pygments_lexer": "ipython3",
   "version": "3.8.8"
  }
 },
 "nbformat": 4,
 "nbformat_minor": 5
}
